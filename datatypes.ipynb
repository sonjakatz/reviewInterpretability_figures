{
 "cells": [
  {
   "cell_type": "code",
   "execution_count": 1,
   "metadata": {},
   "outputs": [],
   "source": [
    "import pandas as pd\n",
    "import numpy as np\n",
    "import seaborn as sns\n",
    "import os\n",
    "import matplotlib.pyplot as plt \n",
    "sns.set_theme()\n",
    "\n",
    "import matplotlib\n",
    "matplotlib.rcParams.update({'font.size': 15})"
   ]
  },
  {
   "cell_type": "code",
   "execution_count": 2,
   "metadata": {},
   "outputs": [],
   "source": [
    "data_categories = {'SNPs':\"Genomics\",\n",
    "                   'CNV':\"Genomics\",\n",
    "                   'CpGs (methylation)':\"Epigenetics\",\n",
    "                   'SNV':\"Genomics\",\n",
    "                   'mRNA (gene expression)': \"Transcriptomics\",\n",
    "                   'miRNA':\"Epigenetics\",\n",
    "                   'sc-transcriptomics': \"Transcriptomics\",\n",
    "                   'sc-ATAC':\"Epigenetics\",\n",
    "                   'proteome': \"Proteomics\",\n",
    "                   'clinical': \"Clinical\",\n",
    "                   'ncRNA':\"Epigenetics\",\n",
    "                   'other': \"other\",\n",
    "                   'WES':\"Genomics\",\n",
    "                   'ChIP-seq':\"Epigenetics\",\n",
    "                   'WGS':\"Genomics\",\n",
    "                   'genotype':\"Genomics\",\n",
    "                   \"Copy number alterations\":\"Genomics\",\n",
    "                   \"Fusions\":\"Genomics\",\n",
    "                   \"Mutations\":\"Genomics\"}\n",
    "\n",
    "model_categories = {\n",
    "    'VAE':\"Autoencoder\",\n",
    "    'VNN (dense)':\"Neural network\",\n",
    "    'AE':\"Autoencoder\",\n",
    "    'VAE (conditional)':\"Autoencoder\",\n",
    "    'Graph Convolutional Network (GCN)':\"Graph network\",\n",
    "    'AE (convolutional)':\"Autoencoder\",\n",
    "    'LSTM (convolutional)':\"Neural network\",\n",
    "    'ensemble (MAE)':\"other\",\n",
    "    'fuzzy network':\"other\",\n",
    "    'Gaussian-Proces':\"other\",\n",
    "    'PCA-like':\"other\",\n",
    "    'ANN':\"Neural network\",\n",
    "    'VNN (CNN)':\"Neural network\",\n",
    "    'AE (vector quantized)':\"Autoencoder\",\n",
    "    'AE (stacked)':\"Autoencoder\",\n",
    "    'VAE (sparse)':\"Autoencoder\",\n",
    "    'Convolutional Neural Network (CNN)':\"Neural network\",\n",
    "    'Dense neural network':\"Neural network\",\n",
    "    #'Transformer':\"\",\n",
    "    'Capsule Network':\"other\",\n",
    "    'Factor Graph Neural Network':\"Graph network\",\n",
    "    'Self-organising maps (SOM)':\"other\",\n",
    "    'AE (sparse)':\"Autoencoder\",\n",
    "    'Graph Network':\"Graph network\"\n",
    "}"
   ]
  },
  {
   "cell_type": "code",
   "execution_count": 3,
   "metadata": {},
   "outputs": [],
   "source": [
    "outPath = \"figures\""
   ]
  },
  {
   "cell_type": "code",
   "execution_count": 6,
   "metadata": {},
   "outputs": [],
   "source": [
    "pd_table1 = pd.read_csv(\"data/Table_4.csv\")"
   ]
  },
  {
   "cell_type": "code",
   "execution_count": 7,
   "metadata": {},
   "outputs": [
    {
     "ename": "KeyError",
     "evalue": "0",
     "output_type": "error",
     "traceback": [
      "\u001b[0;31m---------------------------------------------------------------------------\u001b[0m",
      "\u001b[0;31mKeyError\u001b[0m                                  Traceback (most recent call last)",
      "File \u001b[0;32m~/miniconda3/envs/env_universal/lib/python3.11/site-packages/pandas/core/indexes/base.py:3790\u001b[0m, in \u001b[0;36mIndex.get_loc\u001b[0;34m(self, key)\u001b[0m\n\u001b[1;32m   3789\u001b[0m \u001b[39mtry\u001b[39;00m:\n\u001b[0;32m-> 3790\u001b[0m     \u001b[39mreturn\u001b[39;00m \u001b[39mself\u001b[39m\u001b[39m.\u001b[39m_engine\u001b[39m.\u001b[39mget_loc(casted_key)\n\u001b[1;32m   3791\u001b[0m \u001b[39mexcept\u001b[39;00m \u001b[39mKeyError\u001b[39;00m \u001b[39mas\u001b[39;00m err:\n",
      "File \u001b[0;32mindex.pyx:152\u001b[0m, in \u001b[0;36mpandas._libs.index.IndexEngine.get_loc\u001b[0;34m()\u001b[0m\n",
      "File \u001b[0;32mindex.pyx:181\u001b[0m, in \u001b[0;36mpandas._libs.index.IndexEngine.get_loc\u001b[0;34m()\u001b[0m\n",
      "File \u001b[0;32mpandas/_libs/hashtable_class_helper.pxi:7080\u001b[0m, in \u001b[0;36mpandas._libs.hashtable.PyObjectHashTable.get_item\u001b[0;34m()\u001b[0m\n",
      "File \u001b[0;32mpandas/_libs/hashtable_class_helper.pxi:7088\u001b[0m, in \u001b[0;36mpandas._libs.hashtable.PyObjectHashTable.get_item\u001b[0;34m()\u001b[0m\n",
      "\u001b[0;31mKeyError\u001b[0m: 0",
      "\nThe above exception was the direct cause of the following exception:\n",
      "\u001b[0;31mKeyError\u001b[0m                                  Traceback (most recent call last)",
      "\u001b[1;32m/home/sonja/PROJECTS/review_interpretability/table/datatypes.ipynb Cell 5\u001b[0m line \u001b[0;36m1\n\u001b[1;32m     <a href='vscode-notebook-cell:/home/sonja/PROJECTS/review_interpretability/table/datatypes.ipynb#W4sZmlsZQ%3D%3D?line=9'>10</a>\u001b[0m labels_list \u001b[39m=\u001b[39m []\n\u001b[1;32m     <a href='vscode-notebook-cell:/home/sonja/PROJECTS/review_interpretability/table/datatypes.ipynb#W4sZmlsZQ%3D%3D?line=10'>11</a>\u001b[0m \u001b[39mfor\u001b[39;00m cat \u001b[39min\u001b[39;00m df[\u001b[39m\"\u001b[39m\u001b[39mcat\u001b[39m\u001b[39m\"\u001b[39m]\u001b[39m.\u001b[39munique():\n\u001b[0;32m---> <a href='vscode-notebook-cell:/home/sonja/PROJECTS/review_interpretability/table/datatypes.ipynb#W4sZmlsZQ%3D%3D?line=11'>12</a>\u001b[0m     cat_list\u001b[39m.\u001b[39mappend(df[df[\u001b[39m\"\u001b[39m\u001b[39mcat\u001b[39m\u001b[39m\"\u001b[39m] \u001b[39m==\u001b[39m cat][\u001b[39m0\u001b[39m]\u001b[39m.\u001b[39mastype(\u001b[39m\"\u001b[39m\u001b[39mint64\u001b[39m\u001b[39m\"\u001b[39m)\u001b[39m.\u001b[39mtolist())\n\u001b[1;32m     <a href='vscode-notebook-cell:/home/sonja/PROJECTS/review_interpretability/table/datatypes.ipynb#W4sZmlsZQ%3D%3D?line=12'>13</a>\u001b[0m     labels_list\u001b[39m.\u001b[39mappend(df[df[\u001b[39m\"\u001b[39m\u001b[39mcat\u001b[39m\u001b[39m\"\u001b[39m] \u001b[39m==\u001b[39m cat]\u001b[39m.\u001b[39mindex\u001b[39m.\u001b[39mtolist())\n\u001b[1;32m     <a href='vscode-notebook-cell:/home/sonja/PROJECTS/review_interpretability/table/datatypes.ipynb#W4sZmlsZQ%3D%3D?line=14'>15</a>\u001b[0m \u001b[39mprint\u001b[39m(cat_list)\n",
      "File \u001b[0;32m~/miniconda3/envs/env_universal/lib/python3.11/site-packages/pandas/core/frame.py:3896\u001b[0m, in \u001b[0;36mDataFrame.__getitem__\u001b[0;34m(self, key)\u001b[0m\n\u001b[1;32m   3894\u001b[0m \u001b[39mif\u001b[39;00m \u001b[39mself\u001b[39m\u001b[39m.\u001b[39mcolumns\u001b[39m.\u001b[39mnlevels \u001b[39m>\u001b[39m \u001b[39m1\u001b[39m:\n\u001b[1;32m   3895\u001b[0m     \u001b[39mreturn\u001b[39;00m \u001b[39mself\u001b[39m\u001b[39m.\u001b[39m_getitem_multilevel(key)\n\u001b[0;32m-> 3896\u001b[0m indexer \u001b[39m=\u001b[39m \u001b[39mself\u001b[39m\u001b[39m.\u001b[39mcolumns\u001b[39m.\u001b[39mget_loc(key)\n\u001b[1;32m   3897\u001b[0m \u001b[39mif\u001b[39;00m is_integer(indexer):\n\u001b[1;32m   3898\u001b[0m     indexer \u001b[39m=\u001b[39m [indexer]\n",
      "File \u001b[0;32m~/miniconda3/envs/env_universal/lib/python3.11/site-packages/pandas/core/indexes/base.py:3797\u001b[0m, in \u001b[0;36mIndex.get_loc\u001b[0;34m(self, key)\u001b[0m\n\u001b[1;32m   3792\u001b[0m     \u001b[39mif\u001b[39;00m \u001b[39misinstance\u001b[39m(casted_key, \u001b[39mslice\u001b[39m) \u001b[39mor\u001b[39;00m (\n\u001b[1;32m   3793\u001b[0m         \u001b[39misinstance\u001b[39m(casted_key, abc\u001b[39m.\u001b[39mIterable)\n\u001b[1;32m   3794\u001b[0m         \u001b[39mand\u001b[39;00m \u001b[39many\u001b[39m(\u001b[39misinstance\u001b[39m(x, \u001b[39mslice\u001b[39m) \u001b[39mfor\u001b[39;00m x \u001b[39min\u001b[39;00m casted_key)\n\u001b[1;32m   3795\u001b[0m     ):\n\u001b[1;32m   3796\u001b[0m         \u001b[39mraise\u001b[39;00m InvalidIndexError(key)\n\u001b[0;32m-> 3797\u001b[0m     \u001b[39mraise\u001b[39;00m \u001b[39mKeyError\u001b[39;00m(key) \u001b[39mfrom\u001b[39;00m \u001b[39merr\u001b[39;00m\n\u001b[1;32m   3798\u001b[0m \u001b[39mexcept\u001b[39;00m \u001b[39mTypeError\u001b[39;00m:\n\u001b[1;32m   3799\u001b[0m     \u001b[39m# If we have a listlike key, _check_indexing_error will raise\u001b[39;00m\n\u001b[1;32m   3800\u001b[0m     \u001b[39m#  InvalidIndexError. Otherwise we fall through and re-raise\u001b[39;00m\n\u001b[1;32m   3801\u001b[0m     \u001b[39m#  the TypeError.\u001b[39;00m\n\u001b[1;32m   3802\u001b[0m     \u001b[39mself\u001b[39m\u001b[39m.\u001b[39m_check_indexing_error(key)\n",
      "\u001b[0;31mKeyError\u001b[0m: 0"
     ]
    }
   ],
   "source": [
    "pd_Table_1_data_type = pd_table1.copy()\n",
    "pd_Table_1_data_type = pd.concat([pd_Table_1_data_type, pd_Table_1_data_type['Data type'].str.split(', ', expand=True)], axis=1)\n",
    "df_merged = pd.concat([pd_Table_1_data_type[0], pd_Table_1_data_type[1], pd_Table_1_data_type[2], pd_Table_1_data_type[3],pd_Table_1_data_type[4],pd_Table_1_data_type[5]], ignore_index=True)\n",
    "\n",
    "df = pd.DataFrame(df_merged.value_counts())\n",
    "df = df.loc[list(data_categories.keys()),]\n",
    "df[\"cat\"] = data_categories.values()\n",
    "\n",
    "cat_list = []\n",
    "labels_list = []\n",
    "for cat in df[\"cat\"].unique():\n",
    "    cat_list.append(df[df[\"cat\"] == cat][0].astype(\"int64\").tolist())\n",
    "    labels_list.append(df[df[\"cat\"] == cat].index.tolist())\n",
    "\n",
    "print(cat_list)\n",
    "print(labels_list)"
   ]
  },
  {
   "cell_type": "code",
   "execution_count": null,
   "metadata": {},
   "outputs": [],
   "source": [
    "basecol = 150\n",
    "\n",
    "outer_colors = []\n",
    "for i, cm in enumerate([\"Blues\", \"Oranges\", \"Greens\", \"RdPu\", \"Reds\", \"Purples\"]):\n",
    "    cmap = plt.colormaps[cm]\n",
    "    outer_colors.append(cmap(basecol))\n",
    "\n",
    "    if i == 0:\n",
    "        inner_colors = cmap(np.linspace(0.4,.9, num=len(cat_list[i])))\n",
    "    else:\n",
    "        inner_colors = np.append(inner_colors,  cmap(np.linspace(0.4,.9, num=len(cat_list[i]))), axis=0)"
   ]
  },
  {
   "cell_type": "code",
   "execution_count": 8,
   "metadata": {},
   "outputs": [
    {
     "ename": "NameError",
     "evalue": "name 'outer_colors' is not defined",
     "output_type": "error",
     "traceback": [
      "\u001b[0;31m---------------------------------------------------------------------------\u001b[0m",
      "\u001b[0;31mNameError\u001b[0m                                 Traceback (most recent call last)",
      "\u001b[1;32m/home/sonja/PROJECTS/review_interpretability/table/datatypes.ipynb Cell 7\u001b[0m line \u001b[0;36m1\n\u001b[1;32m      <a href='vscode-notebook-cell:/home/sonja/PROJECTS/review_interpretability/table/datatypes.ipynb#W6sZmlsZQ%3D%3D?line=6'>7</a>\u001b[0m inner_labels \u001b[39m=\u001b[39m [j \u001b[39mfor\u001b[39;00m i \u001b[39min\u001b[39;00m labels_list \u001b[39mfor\u001b[39;00m j \u001b[39min\u001b[39;00m i]\n\u001b[1;32m      <a href='vscode-notebook-cell:/home/sonja/PROJECTS/review_interpretability/table/datatypes.ipynb#W6sZmlsZQ%3D%3D?line=8'>9</a>\u001b[0m cmap \u001b[39m=\u001b[39m plt\u001b[39m.\u001b[39mcolormaps[\u001b[39m\"\u001b[39m\u001b[39mtab20c\u001b[39m\u001b[39m\"\u001b[39m]\n\u001b[0;32m---> <a href='vscode-notebook-cell:/home/sonja/PROJECTS/review_interpretability/table/datatypes.ipynb#W6sZmlsZQ%3D%3D?line=9'>10</a>\u001b[0m patches_outer, texts_outer, pct \u001b[39m=\u001b[39m ax\u001b[39m.\u001b[39mpie(outervals, radius\u001b[39m=\u001b[39m\u001b[39m1\u001b[39m, colors\u001b[39m=\u001b[39mouter_colors, labels\u001b[39m=\u001b[39mouter_labels, autopct\u001b[39m=\u001b[39m\u001b[39m'\u001b[39m\u001b[39m%1.0f\u001b[39;00m\u001b[39m%%\u001b[39;00m\u001b[39m'\u001b[39m, pctdistance\u001b[39m=\u001b[39m\u001b[39m.85\u001b[39m,\n\u001b[1;32m     <a href='vscode-notebook-cell:/home/sonja/PROJECTS/review_interpretability/table/datatypes.ipynb#W6sZmlsZQ%3D%3D?line=10'>11</a>\u001b[0m        wedgeprops\u001b[39m=\u001b[39m\u001b[39mdict\u001b[39m(width\u001b[39m=\u001b[39msize, edgecolor\u001b[39m=\u001b[39m\u001b[39m'\u001b[39m\u001b[39mw\u001b[39m\u001b[39m'\u001b[39m))\n\u001b[1;32m     <a href='vscode-notebook-cell:/home/sonja/PROJECTS/review_interpretability/table/datatypes.ipynb#W6sZmlsZQ%3D%3D?line=11'>12</a>\u001b[0m patches_inner, texts_inner \u001b[39m=\u001b[39m ax\u001b[39m.\u001b[39mpie(innervals, radius\u001b[39m=\u001b[39m\u001b[39m1\u001b[39m\u001b[39m-\u001b[39msize, colors\u001b[39m=\u001b[39minner_colors, \u001b[39m#labels=inner_labels, \u001b[39;00m\n\u001b[1;32m     <a href='vscode-notebook-cell:/home/sonja/PROJECTS/review_interpretability/table/datatypes.ipynb#W6sZmlsZQ%3D%3D?line=12'>13</a>\u001b[0m        wedgeprops\u001b[39m=\u001b[39m\u001b[39mdict\u001b[39m(width\u001b[39m=\u001b[39msize, edgecolor\u001b[39m=\u001b[39m\u001b[39m'\u001b[39m\u001b[39mw\u001b[39m\u001b[39m'\u001b[39m))\n\u001b[1;32m     <a href='vscode-notebook-cell:/home/sonja/PROJECTS/review_interpretability/table/datatypes.ipynb#W6sZmlsZQ%3D%3D?line=14'>15</a>\u001b[0m ax\u001b[39m.\u001b[39mlegend(patches_inner, inner_labels, bbox_to_anchor\u001b[39m=\u001b[39m(\u001b[39m1.03\u001b[39m, \u001b[39m1.02\u001b[39m))\n",
      "\u001b[0;31mNameError\u001b[0m: name 'outer_colors' is not defined"
     ]
    },
    {
     "data": {
      "image/png": "[encoded data removed]",
      "text/plain": [
       "<Figure size 1200x800 with 1 Axes>"
      ]
     },
     "metadata": {},
     "output_type": "display_data"
    }
   ],
   "source": [
    "fig, ax = plt.subplots(figsize=(12,8))\n",
    "\n",
    "size = 0.3\n",
    "outervals = list(map(sum, cat_list))\n",
    "innervals = [j for i in cat_list for j in i]\n",
    "outer_labels = df[\"cat\"].unique().tolist()\n",
    "inner_labels = [j for i in labels_list for j in i]\n",
    "\n",
    "cmap = plt.colormaps[\"tab20c\"]\n",
    "patches_outer, texts_outer, pct = ax.pie(outervals, radius=1, colors=outer_colors, labels=outer_labels, autopct='%1.0f%%', pctdistance=.85,\n",
    "       wedgeprops=dict(width=size, edgecolor='w'))\n",
    "patches_inner, texts_inner = ax.pie(innervals, radius=1-size, colors=inner_colors, #labels=inner_labels, \n",
    "       wedgeprops=dict(width=size, edgecolor='w'))\n",
    "\n",
    "ax.legend(patches_inner, inner_labels, bbox_to_anchor=(1.03, 1.02))\n",
    "fig.tight_layout()\n",
    "fig.savefig(os.path.join(outPath, \"datatypes_piePlot.png\"), dpi=300)"
   ]
  },
  {
   "cell_type": "code",
   "execution_count": null,
   "metadata": {},
   "outputs": [],
   "source": []
  }
 ],
 "metadata": {
  "kernelspec": {
   "display_name": "base",
   "language": "python",
   "name": "python3"
  },
  "language_info": {
   "codemirror_mode": {
    "name": "ipython",
    "version": 3
   },
   "file_extension": ".py",
   "mimetype": "text/x-python",
   "name": "python",
   "nbconvert_exporter": "python",
   "pygments_lexer": "ipython3",
   "version": "3.11.5"
  },
  "orig_nbformat": 4
 },
 "nbformat": 4,
 "nbformat_minor": 2
}
